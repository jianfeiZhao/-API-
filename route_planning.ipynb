{
  "nbformat": 4,
  "nbformat_minor": 0,
  "metadata": {
    "colab": {
      "name": "route_planning.ipynb",
      "provenance": [],
      "collapsed_sections": []
    },
    "kernelspec": {
      "name": "python3",
      "display_name": "Python 3"
    }
  },
  "cells": [
    {
      "cell_type": "markdown",
      "metadata": {
        "id": "6BKGSA13ZBbB",
        "colab_type": "text"
      },
      "source": [
        "##基于高德地图API的路径规划\n",
        "\n",
        "查看高德API key: https://console.amap.com/dev/key/app\n",
        "\n",
        "以南京地铁为例"
      ]
    },
    {
      "cell_type": "code",
      "metadata": {
        "id": "95Cvcfsds1io",
        "colab_type": "code",
        "colab": {
          "base_uri": "https://localhost:8080/",
          "height": 262
        },
        "outputId": "54efbb33-2a8a-486d-a022-755cac329919"
      },
      "source": [
        "import requests\n",
        "from bs4 import BeautifulSoup\n",
        "import pandas as pd\n",
        "import numpy as np\n",
        "\n",
        "header = {'user-agent': 'Mozilla/5.0 (Windows NT 10.0; WOW64) AppleWebKit/537.36 (KHTML, like Gecko) Chrome/74.0.3729.131 Safari/537.36'}\n",
        "city = '南京'                       ###### 指定城市名\n",
        "csv_file = './subways_Nanjing.csv'            ###### 保存的csv文件名\n",
        "\n",
        "# Step 1: 数据采集\n",
        "def get_page_content(url):\n",
        "  html = requests.get(url, headers=header, timeout=10)\n",
        "  content = html.text\n",
        "  soup = BeautifulSoup(content, 'html.parser', from_encoding='utf-8')\n",
        "  return soup\n",
        "\n",
        "url = 'https://ditie.mapbar.com/nanjing_line/'       ####### 指定某一城市的地铁线路网址\n",
        "soup = get_page_content(url)\n",
        "\n",
        "# name, site\n",
        "df = pd.DataFrame(columns=['name', 'site'])\n",
        "subways = soup.find_all('div', class_='station')\n",
        "for subway in subways:\n",
        "  route = subway.find('strong', class_='bolder').text  # 每次遍历得到一条线路\n",
        "  stations = subway.find('ul').find_all('a')  # 每条线路的ul里面有多个a，代表各个站点\n",
        "  for station in stations:\n",
        "    temp = {'name': station.text, 'site': route}\n",
        "    #print(temp)\n",
        "    df = df.append(temp, ignore_index=True)\n",
        "\n",
        "df['city'] = city\n",
        "df.to_csv(csv_file, index=False, encoding='utf-8')\n",
        "df.head()"
      ],
      "execution_count": null,
      "outputs": [
        {
          "output_type": "stream",
          "text": [
            "/usr/local/lib/python3.6/dist-packages/bs4/__init__.py:179: UserWarning: You provided Unicode markup but also provided a value for from_encoding. Your from_encoding will be ignored.\n",
            "  warnings.warn(\"You provided Unicode markup but also provided a value for from_encoding. Your from_encoding will be ignored.\")\n"
          ],
          "name": "stderr"
        },
        {
          "output_type": "execute_result",
          "data": {
            "text/html": [
              "<div>\n",
              "<style scoped>\n",
              "    .dataframe tbody tr th:only-of-type {\n",
              "        vertical-align: middle;\n",
              "    }\n",
              "\n",
              "    .dataframe tbody tr th {\n",
              "        vertical-align: top;\n",
              "    }\n",
              "\n",
              "    .dataframe thead th {\n",
              "        text-align: right;\n",
              "    }\n",
              "</style>\n",
              "<table border=\"1\" class=\"dataframe\">\n",
              "  <thead>\n",
              "    <tr style=\"text-align: right;\">\n",
              "      <th></th>\n",
              "      <th>name</th>\n",
              "      <th>site</th>\n",
              "      <th>city</th>\n",
              "    </tr>\n",
              "  </thead>\n",
              "  <tbody>\n",
              "    <tr>\n",
              "      <th>0</th>\n",
              "      <td>迈皋桥站</td>\n",
              "      <td>地铁1号线</td>\n",
              "      <td>南京</td>\n",
              "    </tr>\n",
              "    <tr>\n",
              "      <th>1</th>\n",
              "      <td>红山动物园站</td>\n",
              "      <td>地铁1号线</td>\n",
              "      <td>南京</td>\n",
              "    </tr>\n",
              "    <tr>\n",
              "      <th>2</th>\n",
              "      <td>南京站</td>\n",
              "      <td>地铁1号线</td>\n",
              "      <td>南京</td>\n",
              "    </tr>\n",
              "    <tr>\n",
              "      <th>3</th>\n",
              "      <td>新模范马路站</td>\n",
              "      <td>地铁1号线</td>\n",
              "      <td>南京</td>\n",
              "    </tr>\n",
              "    <tr>\n",
              "      <th>4</th>\n",
              "      <td>玄武门站</td>\n",
              "      <td>地铁1号线</td>\n",
              "      <td>南京</td>\n",
              "    </tr>\n",
              "  </tbody>\n",
              "</table>\n",
              "</div>"
            ],
            "text/plain": [
              "     name   site city\n",
              "0    迈皋桥站  地铁1号线   南京\n",
              "1  红山动物园站  地铁1号线   南京\n",
              "2     南京站  地铁1号线   南京\n",
              "3  新模范马路站  地铁1号线   南京\n",
              "4    玄武门站  地铁1号线   南京"
            ]
          },
          "metadata": {
            "tags": []
          },
          "execution_count": 69
        }
      ]
    },
    {
      "cell_type": "markdown",
      "metadata": {
        "id": "9N7NnaitbdGI",
        "colab_type": "text"
      },
      "source": [
        "##Step 2： 获取地点的坐标（经纬度）\n",
        "\n",
        "使用高德地图API，根据用户申请的key，获取指定地点的所在经度、维度，JSON格式是字典\n",
        "\n",
        "https://restapi.amap.com/v3/place/text?keywords=五道口&city=北京&output=json&offset=20&page=1&key=e10ee1784909b7d58db5d008b30d8989&extensions=all \n"
      ]
    },
    {
      "cell_type": "code",
      "metadata": {
        "id": "nLb1ANJAugSg",
        "colab_type": "code",
        "colab": {}
      },
      "source": [
        "# Step 2： 获取地点的坐标（经纬度）\n",
        "# 使用高德地图API，根据用户申请的key，获取指定地点的所在经度、维度，JSON格式是字典\n",
        "# https://restapi.amap.com/v3/place/text?keywords=五道口&city=北京&output=json&offset=20&page=1&key=e10ee1784909b7d58db5d008b30d8989&extensions=all \n",
        "\n",
        "import re\n",
        "# 通过keyword, city得到location\n",
        "def get_location(keyword, city):\n",
        "  url = 'https://restapi.amap.com/v3/place/text?keywords='+keyword+'&city='+city+'&output=json&offset=20&page=1&key=e10ee1784909b7d58db5d008b30d8989&extensions=all'\n",
        "  print(url)\n",
        "  data = requests.get(url, headers=header, timeout=20)\n",
        "  data.encoding = 'utf-8'\n",
        "  data = data.text\n",
        "  \n",
        "  # \"location\":\"116.73891,40.08394\"\n",
        "  # .*具有贪婪模式，匹配到不能匹配为止\n",
        "  # 加一个?表示懒惰模式，经过一个匹配后，当前的结束\n",
        "  pattern = '\"location\":\"(.*?),(.*?)\"'\n",
        "  result = re.findall(pattern, data)\n",
        "  print(result[0][0], result[0][1])\n",
        "  try:\n",
        "    return result[0][0], result[0][1]\n",
        "  except:\n",
        "    get_location(keyword.replace('站', ''), city)\n",
        "\n",
        "#get_location('五道口', '北京')\n",
        "df = pd.read_csv(csv_file, index_col=None)\n",
        "df['longitude'], df['latitude'] = None, None  # 表格中添加经纬度列"
      ],
      "execution_count": null,
      "outputs": []
    },
    {
      "cell_type": "code",
      "metadata": {
        "id": "qdtT71FWViwI",
        "colab_type": "code",
        "colab": {}
      },
      "source": [
        "for index, row in df.iterrows():\n",
        "  if row['longitude'] == None:\n",
        "    name, city = str(row['name']), str(row['city'])\n",
        "    #print(name, city)\n",
        "    try:\n",
        "      longi, lati = get_location(name, city)\n",
        "      df.iloc[index]['longitude'] = longi\n",
        "      df.iloc[index]['latitude'] = lati\n",
        "    except:\n",
        "      continue\n",
        "  else:\n",
        "    continue\n",
        "df.to_csv(csv_file, index=False)"
      ],
      "execution_count": null,
      "outputs": []
    },
    {
      "cell_type": "markdown",
      "metadata": {
        "id": "2xYffiCkbH_2",
        "colab_type": "text"
      },
      "source": [
        "##Step 3: 计算两点之间的距离\n",
        "\n",
        "使用高德地图API，获取指定两点之间的距离，比如从五道口到知春路\n",
        "\n",
        "http://restapi.amap.com/v3/distance?key=e10ee1784909b7d58db5d008b30d8989&origins=116.337581,39.993138&destination=116.339941,39.976228&type=1\n",
        "\n",
        "五道口的坐标(116.337581,39.993138)，\n",
        "知春路的坐标(116.339941,39.976228)\n"
      ]
    },
    {
      "cell_type": "code",
      "metadata": {
        "id": "nnEMKNTKWipn",
        "colab_type": "code",
        "colab": {}
      },
      "source": [
        "import pandas as pd\n",
        "import re, requests\n",
        "\n",
        "header = {'user-agent': 'Mozilla/5.0 (Windows NT 10.0; WOW64) AppleWebKit/537.36 (KHTML, like Gecko) Chrome/74.0.3729.131 Safari/537.36'}\n",
        "\n",
        "def compute_distance(long1, lati1, long2, lati2):\n",
        "  url = 'http://restapi.amap.com/v3/distance?key=e10ee1784909b7d58db5d008b30d8989&origins='+str(long1)+\\\n",
        "    ','+str(lati1)+'&destination='+str(long2)+','+str(lati2)+'&type=1'\n",
        "  print(url)\n",
        "  data = requests.get(url, headers=header, timeout=10)\n",
        "  data.encoding = 'utf-8'\n",
        "  data = data.text\n",
        "  pattern = \"\\\"distance\\\":\\\"(.*?)\\\",\\\"duration\\\":\\\"(.*?)\\\"\"  # 两点间距离和时间\n",
        "  result = re.findall(pattern, data)\n",
        "  #print(result[0][0])\n",
        "  return result[0][1]\n",
        "\n",
        "# 数据加载\n",
        "data = pd.read_csv('./subways_Nanjing.csv', index_col=None)\n",
        "#data.head() \n",
        "\n",
        "from collections import defaultdict\n",
        "# 创建图中两点间的最短距离\n",
        "graph = defaultdict(dict)\n",
        "for i in range(data.shape[0]):\n",
        "  site1 = data.iloc[i]['site']\n",
        "  if i<(data.shape[0]-1):\n",
        "    site2 = data.iloc[i+1]['site']\n",
        "    # 如果是同一条线路\n",
        "    if site1 == site2:  \n",
        "      name1, name2 = data.iloc[i]['name'], data.iloc[i+1]['name']\n",
        "      graph[name1][name2] = None\n",
        "      graph[name2][name1] = None"
      ],
      "execution_count": null,
      "outputs": []
    },
    {
      "cell_type": "code",
      "metadata": {
        "id": "5tRyt10wmWrT",
        "colab_type": "code",
        "colab": {
          "base_uri": "https://localhost:8080/",
          "height": 55
        },
        "outputId": "427ce75c-05f7-4827-c364-930882ca0dd4"
      },
      "source": [
        "for i in range(data.shape[0]):\n",
        "  site1 = data.iloc[i]['site']\n",
        "  if i<data.shape[0]-1:\n",
        "    site2 = data.iloc[i+1]['site']\n",
        "    # 如果是同一条线路\n",
        "    if site1 == site2:\n",
        "      long1, lati1 = data.iloc[i]['longitude'], data.iloc[i]['latitude']\n",
        "      long2, lati2 = data.iloc[i+1]['longitude'], data.iloc[i+1]['latitude']\n",
        "      name1, name2 = data.iloc[i]['name'], data.iloc[i+1]['name']\n",
        "      if graph[name1][name2] == None or graph[name2][name1] == None:\n",
        "        try:\n",
        "          distance = compute_distance(long1, lati1, long2, lati2)\n",
        "          graph[name1][name2] = distance\n",
        "          graph[name2][name1] = distance\n",
        "          print(name1, name2, distance)\n",
        "        except:\n",
        "          continue\n",
        "# 保存python对象\n",
        "import pickle\n",
        "output = open('graph.pkl', 'wb')\n",
        "pickle.dump(graph, output)\n",
        "print(graph)"
      ],
      "execution_count": null,
      "outputs": [
        {
          "output_type": "stream",
          "text": [
            "defaultdict(<class 'dict'>, {'迈皋桥站': {'红山动物园站': '420'}, '红山动物园站': {'迈皋桥站': '420', '南京站': '600'}, '南京站': {'红山动物园站': '600', '新模范马路站': '480', '小市站': '780', '南京林业大学新庄站': '480'}, '新模范马路站': {'南京站': '480', '玄武门站': '300'}, '玄武门站': {'新模范马路站': '300', '鼓楼站': '420'}, '鼓楼站': {'玄武门站': '420', '珠江路站': '600', '鸡鸣寺站': '420', '云南路站': '180'}, '珠江路站': {'鼓楼站': '600', '新街口站': '420'}, '新街口站': {'珠江路站': '420', '张府园站': '540', '上海路站': '240', '大行宫站': '660'}, '张府园站': {'新街口站': '540', '三山街站': '360'}, '三山街站': {'张府园站': '360', '中华门站': '660'}, '中华门站': {'三山街站': '660', '安德门站': '600'}, '安德门站': {'中华门站': '600', '天隆寺站': '120', '小行站': '540'}, '天隆寺站': {'安德门站': '120', '软件大道站': '300'}, '软件大道站': {'天隆寺站': '300', '花神庙站': '240'}, '花神庙站': {'软件大道站': '240', '南京南站': '720'}, '南京南站': {'花神庙站': '720', '双龙大道站': '360', '翠屏山站': '840', '明发广场站': '660', '宏运大道站': '600'}, '双龙大道站': {'南京南站': '360', '河定桥站': '240'}, '河定桥站': {'双龙大道站': '240', '胜太路站': '420'}, '胜太路站': {'河定桥站': '420', '百家湖站': '180'}, '百家湖站': {'胜太路站': '180', '小龙湾站': '600'}, '小龙湾站': {'百家湖站': '600', '竹山路站': '240'}, '竹山路站': {'小龙湾站': '240', '天印大道站': '240'}, '天印大道站': {'竹山路站': '240', '龙眠大道站': '180'}, '龙眠大道站': {'天印大道站': '180', '南医大江苏经贸学院站': '480'}, '南医大江苏经贸学院站': {'龙眠大道站': '480', '南京交院站': '420'}, '南京交院站': {'南医大江苏经贸学院站': '420', '中国药科大学站': '360'}, '中国药科大学站': {'南京交院站': '360'}, '翠屏山站': {'南京南站': '840', '河海大学佛城西路站': '780'}, '河海大学佛城西路站': {'翠屏山站': '780', '吉印大道站': '360'}, '吉印大道站': {'河海大学佛城西路站': '360', '正方中路站': '540'}, '正方中路站': {'吉印大道站': '540', '翔宇路北站': '720'}, '翔宇路北站': {'正方中路站': '720', '翔宇路南站': '600'}, '翔宇路南站': {'翔宇路北站': '600', '禄口机场站': '1080'}, '禄口机场站': {'翔宇路南站': '1080'}, '油坊桥站': {'雨润大街站': '540'}, '雨润大街站': {'油坊桥站': '540', '元通站': '300'}, '元通站': {'雨润大街站': '300', '奥体东站': '180', '中胜站': '540', '奥体中心站': '300'}, '奥体东站': {'元通站': '180', '兴隆大街站': '300'}, '兴隆大街站': {'奥体东站': '300', '集庆门大街站': '300'}, '集庆门大街站': {'兴隆大街站': '300', '云锦路站': '180'}, '云锦路站': {'集庆门大街站': '180', '莫愁湖站': '1320'}, '莫愁湖站': {'云锦路站': '1320', '汉中门站': '1800'}, '汉中门站': {'莫愁湖站': '1800', '上海路站': '600'}, '上海路站': {'汉中门站': '600', '新街口站': '240'}, '大行宫站': {'新街口站': '660', '西安门站': '420', '浮桥华海3C广场站': '360', '常府街站': '540'}, '西安门站': {'大行宫站': '420', '明故宫站': '240'}, '明故宫站': {'西安门站': '240', '苜蓿园站': '600'}, '苜蓿园站': {'明故宫站': '600', '下马坊站': '540'}, '下马坊站': {'苜蓿园站': '540', '孝陵卫站': '180'}, '孝陵卫站': {'下马坊站': '180', '钟灵街站': '360'}, '钟灵街站': {'孝陵卫站': '360', '马群站': '480'}, '马群站': {'钟灵街站': '480', '金马路站': '1140'}, '金马路站': {'马群站': '1140', '仙鹤门站': '780', '汇通路站': '1020', '苏宁总部徐庄站': '840'}, '仙鹤门站': {'金马路站': '780', '学则路站': '300'}, '学则路站': {'仙鹤门站': '300', '仙林中心站': '240'}, '仙林中心站': {'学则路站': '240', '羊山公园站': '300'}, '羊山公园站': {'仙林中心站': '300', '南大仙林校区站': '300'}, '南大仙林校区站': {'羊山公园站': '300', '经天路站': '180'}, '经天路站': {'南大仙林校区站': '180'}, '林场站': {'星火路站': '420'}, '星火路站': {'林场站': '420', '东大成贤学院站': '120'}, '东大成贤学院站': {'星火路站': '120', '泰冯路站': '180'}, '泰冯路站': {'东大成贤学院站': '180', '天润城站': '240', '高新开发区站': '300', '泰山新村站': '480'}, '天润城站': {'泰冯路站': '240', '柳洲东路站': '300'}, '柳洲东路站': {'天润城站': '300', '上元门站': '1860'}, '上元门站': {'柳洲东路站': '1860', '五塘广场站': '180'}, '五塘广场站': {'上元门站': '180', '小市站': '420'}, '小市站': {'五塘广场站': '420', '南京站': '780'}, '南京林业大学新庄站': {'南京站': '480', '鸡鸣寺站': '600'}, '鸡鸣寺站': {'南京林业大学新庄站': '600', '浮桥华海3C广场站': '300', '九华山站': '420', '鼓楼站': '420'}, '浮桥华海3C广场站': {'鸡鸣寺站': '300', '大行宫站': '360'}, '常府街站': {'大行宫站': '540', '夫子庙站': '360'}, '夫子庙站': {'常府街站': '360', '武定门站': '360'}, '武定门站': {'夫子庙站': '360', '雨花门站': '300'}, '雨花门站': {'武定门站': '300', '卡子门站': '180'}, '卡子门站': {'雨花门站': '180', '大明路站': '600'}, '大明路站': {'卡子门站': '600', '明发广场站': '900'}, '明发广场站': {'大明路站': '900', '南京南站': '660'}, '宏运大道站': {'南京南站': '600', '胜太西路站': '480'}, '胜太西路站': {'宏运大道站': '480', '天元西路站': '300'}, '天元西路站': {'胜太西路站': '300', '九龙湖站': '420'}, '九龙湖站': {'天元西路站': '420', '诚信大道站': '360'}, '诚信大道站': {'九龙湖站': '360', '东大九龙湖校区站': '180'}, '东大九龙湖校区站': {'诚信大道站': '180', '秣周东路站': '360'}, '秣周东路站': {'东大九龙湖校区站': '360'}, '仙林湖站': {'西岗桦墅站': '600'}, '西岗桦墅站': {'仙林湖站': '600', '孟北站': '480'}, '孟北站': {'西岗桦墅站': '480', '东流站': '600'}, '东流站': {'孟北站': '600', '灵山站': '300'}, '灵山站': {'东流站': '300', '汇通路站': '420'}, '汇通路站': {'灵山站': '420', '金马路站': '1020'}, '苏宁总部徐庄站': {'金马路站': '840', '聚宝山站': '420'}, '聚宝山站': {'苏宁总部徐庄站': '420', '王家湾站': '600'}, '王家湾站': {'聚宝山站': '600', '蒋王庙站': '300'}, '蒋王庙站': {'王家湾站': '300', '岗子村站': '420'}, '岗子村站': {'蒋王庙站': '420', '九华山站': '420'}, '九华山站': {'岗子村站': '420', '鸡鸣寺站': '420'}, '云南路站': {'鼓楼站': '180', '南艺二师草场门站': '540'}, '南艺二师草场门站': {'云南路站': '540', '龙江站': '480'}, '龙江站': {'南艺二师草场门站': '480'}, '金牛湖站': {'八百桥站': '720'}, '八百桥站': {'金牛湖站': '720', '沈桥站': '420'}, '沈桥站': {'八百桥站': '420', '方州广场站': '540'}, '方州广场站': {'沈桥站': '540', '凤凰山公园站': '180'}, '凤凰山公园站': {'方州广场站': '180', '雄州站': '300'}, '雄州站': {'凤凰山公园站': '300', '龙池站': '480'}, '龙池站': {'雄州站': '480', '六合开发区站': '420'}, '六合开发区站': {'龙池站': '420', '化工园站': '540'}, '化工园站': {'六合开发区站': '540', '长芦站': '240'}, '长芦站': {'化工园站': '240', '葛塘站': '600'}, '葛塘站': {'长芦站': '600', '大厂站': '300'}, '大厂站': {'葛塘站': '300', '卸甲甸站': '120'}, '卸甲甸站': {'大厂站': '120', '信息工程大学站': '60'}, '信息工程大学站': {'卸甲甸站': '60', '高新开发区站': '180'}, '高新开发区站': {'信息工程大学站': '180', '泰冯路站': '300'}, '泰山新村站': {'泰冯路站': '480'}, '小行站': {'安德门站': '540', '中胜站': '360'}, '中胜站': {'小行站': '360', '元通站': '540'}, '奥体中心站': {'元通站': '300', '梦都大街站': '120'}, '梦都大街站': {'奥体中心站': '120', '绿博园站': '300'}, '绿博园站': {'梦都大街站': '300', '江心洲站': '540'}, '江心洲站': {'绿博园站': '540', '临江站': '780'}, '临江站': {'江心洲站': '780', '浦口万汇城站': '840'}, '浦口万汇城站': {'临江站': '840', '南京工业大学站': '300'}, '南京工业大学站': {'浦口万汇城站': '300', '龙华路站': '360'}, '龙华路站': {'南京工业大学站': '360', '文德路站': '360'}, '文德路站': {'龙华路站': '360', '雨山路站': '360'}, '雨山路站': {'文德路站': '360'}})\n"
          ],
          "name": "stdout"
        }
      ]
    },
    {
      "cell_type": "markdown",
      "metadata": {
        "id": "rps2D9V-IhUV",
        "colab_type": "text"
      },
      "source": [
        "##Step 4: 路径规划\n",
        "使用Dijkstra计算最优路径"
      ]
    },
    {
      "cell_type": "code",
      "metadata": {
        "id": "nPiZDztq1-k0",
        "colab_type": "code",
        "colab": {
          "base_uri": "https://localhost:8080/",
          "height": 110
        },
        "outputId": "f20e1ff9-bf18-4afd-b6e8-2d7fd5de54ef"
      },
      "source": [
        "# 直接调用pkl\n",
        "import pickle\n",
        "file = open('graph.pkl', 'rb')\n",
        "graph = pickle.load(file)\n",
        "\n",
        "# 找到开销最小的节点\n",
        "def find_lowest_cost_node(costs):\n",
        "  # 初始化数据\n",
        "  lowest_cost = float('inf')\n",
        "  lowest_cost_node = None\n",
        "  # 遍历所有节点\n",
        "  for node in costs:\n",
        "    # 如果节点没有被处理\n",
        "    if node not in processed:\n",
        "      if costs[node] < lowest_cost:  # 当前值更小，更新lowest\n",
        "        lowest_cost = costs[node]\n",
        "        lowest_cost_node = node\n",
        "  return lowest_cost_node\n",
        "\n",
        "# 找到最短路径，从终点开始\n",
        "def find_shortest_path():\n",
        "  node = end\n",
        "  shortest_path = [end]\n",
        "  while parents[node] != start:\n",
        "    shortest_path.append(parents[node])\n",
        "    node = parents[node]\n",
        "  shortest_path.append(start)\n",
        "  return shortest_path\n",
        "\n",
        "# 计算图中从start到end的最短路径\n",
        "def dijkstra():\n",
        "  # find the lowest cost node\n",
        "  node = find_lowest_cost_node(costs)\n",
        "  #print('当前cost最小的节点：', node)\n",
        "  while node is not None:\n",
        "    # 获取节点目前的cost\n",
        "    cost = costs[node]\n",
        "    # 获取节点的邻居\n",
        "    neighbors = graph[node]\n",
        "    # 遍历所有的邻居，看是否更新cost\n",
        "    for neighbor in neighbors.keys():\n",
        "      new_cost = cost + float(neighbors[neighbor])\n",
        "      if neighbor not in costs or new_cost < costs[neighbor]:\n",
        "         costs[neighbor] = new_cost    # 更新cost\n",
        "         parents[neighbor] = node    # 更新parent\n",
        "    # 标记当前节点为已处理\n",
        "    processed.append(node)\n",
        "    # 重复循环\n",
        "    node = find_lowest_cost_node(costs)\n",
        "  # 所有节点处理完毕，找最短距离\n",
        "  shortest_path = find_shortest_path()\n",
        "  shortest_path.reverse() \n",
        "  print('从{}到{}的最短路径：\\n{}'.format(start, end, shortest_path))\n",
        "  print('所需时间为：{}分钟'.format(costs[end]/60))\n",
        "  print('需经过{}站'.format(len(shortest_path)))\n",
        "\n",
        "def compute(site1, site2):\n",
        "  # 设置出发点和终点\n",
        "  global start, end, costs, parents, processed\n",
        "  start, end = site1, site2\n",
        "\n",
        "  # 创建costs字典存储所有节点的cost，cost指从起点到该节点的距离\n",
        "  costs = {}\n",
        "  costs[start] = 0    # 初始节点cost为0\n",
        "\n",
        "  # 存储父节点的Hash表，用于记录路径\n",
        "  parents = {} \n",
        "\n",
        "  # 记录处理过的节点list\n",
        "  processed = []\n",
        "\n",
        "  dijkstra() \n",
        "\n",
        "if __name__ == '__main__':\n",
        "  site1, site2 = '南京站', '仙林中心站'\n",
        "  #site1, site2 = '龙江站', '百家湖站'\n",
        "  shortest_path = compute(site1, site2)"
      ],
      "execution_count": null,
      "outputs": [
        {
          "output_type": "stream",
          "text": [
            "从南京站到仙林中心站的最短路径：\n",
            "['南京站', '南京林业大学新庄站', '鸡鸣寺站', '九华山站', '岗子村站', '蒋王庙站', '王家湾站', '聚宝山站', '苏宁总部徐庄站', '金马路站', '仙鹤门站', '学则路站', '仙林中心站']\n",
            "所需时间为：97.0分钟\n",
            "需经过13站\n"
          ],
          "name": "stdout"
        }
      ]
    },
    {
      "cell_type": "code",
      "metadata": {
        "id": "Acmpc8FmnVK5",
        "colab_type": "code",
        "colab": {}
      },
      "source": [
        ""
      ],
      "execution_count": null,
      "outputs": []
    }
  ]
}